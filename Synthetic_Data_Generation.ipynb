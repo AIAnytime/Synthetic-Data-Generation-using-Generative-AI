{
  "nbformat": 4,
  "nbformat_minor": 0,
  "metadata": {
    "colab": {
      "provenance": []
    },
    "kernelspec": {
      "name": "python3",
      "display_name": "Python 3"
    },
    "language_info": {
      "name": "python"
    }
  },
  "cells": [
    {
      "cell_type": "code",
      "execution_count": 1,
      "metadata": {
        "colab": {
          "base_uri": "https://localhost:8080/"
        },
        "id": "3Fw6Jlpb32R3",
        "outputId": "a9c3abc1-9eaf-40dd-8dfd-a4d59d6eae53"
      },
      "outputs": [
        {
          "output_type": "stream",
          "name": "stdout",
          "text": [
            "Cloning into 'gdpr-helpers'...\n",
            "remote: Enumerating objects: 293, done.\u001b[K\n",
            "remote: Counting objects: 100% (293/293), done.\u001b[K\n",
            "remote: Compressing objects: 100% (156/156), done.\u001b[K\n",
            "remote: Total 293 (delta 149), reused 263 (delta 126), pack-reused 0\u001b[K\n",
            "Receiving objects: 100% (293/293), 1.23 MiB | 4.64 MiB/s, done.\n",
            "Resolving deltas: 100% (149/149), done.\n"
          ]
        }
      ],
      "source": [
        "!git clone https://github.com/gretelai/gdpr-helpers.git"
      ]
    },
    {
      "cell_type": "code",
      "source": [
        "!cd gdpr-helpers; pip install -Uqq ."
      ],
      "metadata": {
        "colab": {
          "base_uri": "https://localhost:8080/"
        },
        "id": "g6riIxjT6M4T",
        "outputId": "cf62c8fa-b6fc-490f-9b23-3e001d1049c2"
      },
      "execution_count": 2,
      "outputs": [
        {
          "output_type": "stream",
          "name": "stdout",
          "text": [
            "  Preparing metadata (setup.py) ... \u001b[?25l\u001b[?25hdone\n",
            "\u001b[2K     \u001b[90m━━━━━━━━━━━━━━━━━━━━━━━━━━━━━━━━━━━━━━━\u001b[0m \u001b[32m264.5/264.5 kB\u001b[0m \u001b[31m5.1 MB/s\u001b[0m eta \u001b[36m0:00:00\u001b[0m\n",
            "\u001b[2K     \u001b[90m━━━━━━━━━━━━━━━━━━━━━━━━━━━━━━━━━━━━━━\u001b[0m \u001b[32m148.1/148.1 kB\u001b[0m \u001b[31m13.4 MB/s\u001b[0m eta \u001b[36m0:00:00\u001b[0m\n",
            "\u001b[2K     \u001b[90m━━━━━━━━━━━━━━━━━━━━━━━━━━━━━━━━━━━━━━━━\u001b[0m \u001b[32m1.7/1.7 MB\u001b[0m \u001b[31m38.7 MB/s\u001b[0m eta \u001b[36m0:00:00\u001b[0m\n",
            "\u001b[2K     \u001b[90m━━━━━━━━━━━━━━━━━━━━━━━━━━━━━━━━━━━━━━\u001b[0m \u001b[32m175.1/175.1 kB\u001b[0m \u001b[31m13.9 MB/s\u001b[0m eta \u001b[36m0:00:00\u001b[0m\n",
            "\u001b[?25h  Installing build dependencies ... \u001b[?25l\u001b[?25hdone\n",
            "  Getting requirements to build wheel ... \u001b[?25l\u001b[?25hdone\n",
            "  Preparing metadata (pyproject.toml) ... \u001b[?25l\u001b[?25hdone\n",
            "\u001b[2K     \u001b[90m━━━━━━━━━━━━━━━━━━━━━━━━━━━━━━━━━━━━━━━━\u001b[0m \u001b[32m58.6/58.6 kB\u001b[0m \u001b[31m5.6 MB/s\u001b[0m eta \u001b[36m0:00:00\u001b[0m\n",
            "\u001b[2K     \u001b[90m━━━━━━━━━━━━━━━━━━━━━━━━━━━━━━━━━━━━━━━━\u001b[0m \u001b[32m57.3/57.3 kB\u001b[0m \u001b[31m4.9 MB/s\u001b[0m eta \u001b[36m0:00:00\u001b[0m\n",
            "\u001b[2K     \u001b[90m━━━━━━━━━━━━━━━━━━━━━━━━━━━━━━━━━━━━━━\u001b[0m \u001b[32m101.6/101.6 kB\u001b[0m \u001b[31m10.1 MB/s\u001b[0m eta \u001b[36m0:00:00\u001b[0m\n",
            "\u001b[?25h  Building wheel for gdpr-helpers (setup.py) ... \u001b[?25l\u001b[?25hdone\n",
            "  Building wheel for pyyaml (pyproject.toml) ... \u001b[?25l\u001b[?25hdone\n"
          ]
        }
      ]
    },
    {
      "cell_type": "code",
      "source": [
        "import os\n",
        "if not os.getcwd().endswith('gdpr-helpers'):\n",
        "    os.chdir('gdpr-helpers')"
      ],
      "metadata": {
        "id": "To2v4Jw-6S3b"
      },
      "execution_count": 3,
      "outputs": []
    },
    {
      "cell_type": "code",
      "source": [
        "import glob\n",
        "from gdpr_helpers import Anonymizer"
      ],
      "metadata": {
        "id": "dz8IYdz16oxZ"
      },
      "execution_count": 4,
      "outputs": []
    },
    {
      "cell_type": "code",
      "source": [
        "search_pattern = \"data/adventure-works-bike-buying.csv\""
      ],
      "metadata": {
        "id": "TvUwA2Mr6wUF"
      },
      "execution_count": 5,
      "outputs": []
    },
    {
      "cell_type": "code",
      "source": [
        "am = Anonymizer(\n",
        "    project_name=\"gdpr-workflow\",\n",
        "    run_mode=\"cloud\",\n",
        "    transforms_config=\"src/config/transforms_config.yaml\",\n",
        "    synthetics_config=\"src/config/synthetics_config.yaml\",\n",
        "    endpoint=\"https://api.gretel.cloud\"\n",
        "    )"
      ],
      "metadata": {
        "colab": {
          "base_uri": "https://localhost:8080/"
        },
        "id": "Xy15pGIi6zaY",
        "outputId": "f10b7137-806c-4a02-a5e6-67f3721d0240"
      },
      "execution_count": 6,
      "outputs": [
        {
          "output_type": "stream",
          "name": "stdout",
          "text": [
            "Gretel Api Key··········\n",
            "Caching Gretel config to disk.\n",
            "Using endpoint https://api.gretel.cloud\n",
            "Logged in as aianytime07@gmail.com ✅\n",
            "Follow along with model training at: https://console.gretel.ai/proj_2RPy8PHr01UYXs2gXRujyHodPxn\n"
          ]
        }
      ]
    },
    {
      "cell_type": "code",
      "source": [
        "for dataset_path in glob.glob(search_pattern):\n",
        "    am.anonymize(dataset_path=dataset_path)"
      ],
      "metadata": {
        "colab": {
          "base_uri": "https://localhost:8080/"
        },
        "id": "s2U04WXY63NY",
        "outputId": "f091a786-5e59-4746-938f-ced7e16aeed2"
      },
      "execution_count": 7,
      "outputs": [
        {
          "output_type": "stream",
          "name": "stdout",
          "text": [
            "Anonymizing 'data/adventure-works-bike-buying.csv'\n",
            "Warning: Found NaN values in training data columns: ['Title', 'MiddleName', 'Suffix', 'AddressLine2']. Replacing NaN values with ''.\n"
          ]
        },
        {
          "output_type": "stream",
          "name": "stderr",
          "text": [
            "Model creation complete!: : 13it [00:19,  1.51s/it]\n",
            "Transform - Job completed: : 25it [00:37,  1.48s/it]\n"
          ]
        },
        {
          "output_type": "stream",
          "name": "stdout",
          "text": [
            "\n",
            "\n",
            "Named Entity Recognition\n",
            "Processing time: 4.135 seconds\n",
            "Samples: 100 records\n",
            "Columns: 24 columns\n",
            "\n",
            "Entities detected\n",
            "| column_name          |   count |   approx_distinct_count |   missing_count | entities_detected    |\n",
            "|:---------------------|--------:|------------------------:|----------------:|:---------------------|\n",
            "| CustomerID           |     100 |                     100 |               0 |                      |\n",
            "| Title                |       0 |                       0 |             100 |                      |\n",
            "| FirstName            |     100 |                      93 |               0 | person_name          |\n",
            "| MiddleName           |      52 |                      15 |              48 |                      |\n",
            "| LastName             |     100 |                      84 |               0 | person_name          |\n",
            "| Suffix               |       0 |                       0 |             100 |                      |\n",
            "| AddressLine1         |     100 |                     100 |               0 | location             |\n",
            "| AddressLine2         |       2 |                       2 |              98 | location             |\n",
            "| City                 |     100 |                      61 |               0 | location             |\n",
            "| StateProvinceName    |     100 |                       9 |               0 | location             |\n",
            "| CountryRegionName    |     100 |                       3 |               0 | location             |\n",
            "| PostalCode           |     100 |                      60 |               0 |                      |\n",
            "| PhoneNumber          |     100 |                      79 |               0 | phone_number         |\n",
            "| BirthDate            |     100 |                     100 |               0 | datetime, birth_date |\n",
            "| Education            |     100 |                       5 |               0 |                      |\n",
            "| Occupation           |     100 |                       4 |               0 |                      |\n",
            "| Gender               |     100 |                       2 |               0 | gender               |\n",
            "| MaritalStatus        |     100 |                       2 |               0 |                      |\n",
            "| HomeOwnerFlag        |     100 |                       2 |               0 |                      |\n",
            "| NumberCarsOwned      |     100 |                       5 |               0 |                      |\n",
            "| NumberChildrenAtHome |     100 |                       6 |               0 |                      |\n",
            "| TotalChildren        |     100 |                       6 |               0 |                      |\n",
            "| YearlyIncome         |     100 |                     100 |               0 |                      |\n",
            "| BikeBuyer            |     100 |                       2 |               0 |                      |\n",
            "\n",
            "\n",
            "Transforms finished.\n",
            "Processing time: 20.577 seconds\n",
            "Record count: 16519\n",
            "\n",
            "Columns transformed\n",
            "| field_name        | transform_type   |   transformed_count |\n",
            "|:------------------|:-----------------|--------------------:|\n",
            "| City              | passthrough      |               16519 |\n",
            "| LastName          | fake             |               16519 |\n",
            "| MiddleName        | fake             |                9534 |\n",
            "| FirstName         | fake             |               16519 |\n",
            "| AddressLine1      | fake             |               16519 |\n",
            "| BirthDate         | dateshift        |               16519 |\n",
            "| PhoneNumber       | fake             |               16519 |\n",
            "| StateProvinceName | hash             |               16519 |\n",
            "| CountryRegionName | hash             |               16519 |\n",
            "| CustomerID        | hash             |               16519 |\n",
            "| AddressLine2      | fake             |                 276 |\n",
            "\n",
            "\n"
          ]
        },
        {
          "output_type": "stream",
          "name": "stderr",
          "text": [
            "Actgan - Job completed: : 371it [09:44,  1.58s/it, num_records=16519]\n"
          ]
        },
        {
          "output_type": "stream",
          "name": "stdout",
          "text": [
            "dict_keys(['left_rows', 'left_cols', 'right_rows', 'right_cols', 'fields', 'left_correlation', 'right_correlation', 'correlation_difference', 'memorized_lines', 'mean_absolute_error', 'average_divergence', 'left_pca', 'right_pca', 'synthetic_data_quality_score', 'field_correlation_stability', 'principal_component_stability', 'field_distribution_stability', 'privacy_protection_level', 'model_id', 'project_name', 'model_name', 'model_type', 'fatal_error', 'summary', 'total_time_seconds', 'total_billed_seconds', 'job_status', 'job_type'])\n",
            "\n",
            "\n",
            "Synthesis finished.\n",
            "Lines memorized: 0\n",
            "\n",
            "Model training time: 537.297 seconds\n",
            "\n",
            "Job status: completed\n",
            "\n",
            "Job type: actgan\n",
            "\n",
            "Privacy report\n",
            "|                        | value    |\n",
            "|:-----------------------|:---------|\n",
            "| outlier_filter         | Medium   |\n",
            "| similarity_filter      | Medium   |\n",
            "| overfitting_protection | Disabled |\n",
            "| differential_privacy   | Disabled |\n",
            "\n",
            "Accuracy report\n",
            "| field                         |   value |\n",
            "|:------------------------------|--------:|\n",
            "| synthetic_data_quality_score  |      78 |\n",
            "| field_correlation_stability   |      69 |\n",
            "| principal_component_stability |      82 |\n",
            "| field_distribution_stability  |      85 |\n",
            "\n",
            "\n",
            "dict_keys(['left_rows', 'left_cols', 'right_rows', 'right_cols', 'fields', 'left_correlation', 'right_correlation', 'correlation_difference', 'memorized_lines', 'mean_absolute_error', 'average_divergence', 'left_pca', 'right_pca', 'synthetic_data_quality_score', 'field_correlation_stability', 'principal_component_stability', 'field_distribution_stability', 'privacy_protection_level', 'model_id', 'project_name', 'model_name', 'model_type', 'fatal_error', 'summary', 'total_time_seconds', 'total_billed_seconds', 'job_status', 'job_type'])\n",
            "Anonymization complete\n",
            " -- Synthetic data stored to: artifacts/adventure-works-bike-buying-synthetic_data.csv\n",
            " -- Anonymization report stored to: artifacts/adventure-works-bike-buying-anonymization_report.html\n"
          ]
        }
      ]
    },
    {
      "cell_type": "code",
      "source": [],
      "metadata": {
        "id": "pbK1OOCS7B4r"
      },
      "execution_count": null,
      "outputs": []
    }
  ]
}